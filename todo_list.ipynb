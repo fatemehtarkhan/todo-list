{
 "cells": [
  {
   "cell_type": "code",
   "execution_count": 1,
   "id": "e3337fd9-9345-494b-8609-9def1d8bf146",
   "metadata": {},
   "outputs": [],
   "source": [
    "#Hi\n"
   ]
  },
  {
   "cell_type": "code",
   "execution_count": null,
   "id": "ec38be14-5a38-490b-938d-5e8a76bb0e1e",
   "metadata": {},
   "outputs": [],
   "source": []
  }
 ],
 "metadata": {
  "kernelspec": {
   "display_name": "Python 3 (ipykernel)",
   "language": "python",
   "name": "python3"
  },
  "language_info": {
   "codemirror_mode": {
    "name": "ipython",
    "version": 3
   },
   "file_extension": ".py",
   "mimetype": "text/x-python",
   "name": "python",
   "nbconvert_exporter": "python",
   "pygments_lexer": "ipython3",
   "version": "3.12.7"
  }
 },
 "nbformat": 4,
 "nbformat_minor": 5
}
