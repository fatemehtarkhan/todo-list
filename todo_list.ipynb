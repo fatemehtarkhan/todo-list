{
 "cells": [
  {
   "cell_type": "code",
   "execution_count": 2,
   "id": "e3337fd9-9345-494b-8609-9def1d8bf146",
   "metadata": {},
   "outputs": [],
   "source": [
    "#Hi"
   ]
  },
  {
   "cell_type": "code",
   "execution_count": 19,
   "id": "ee112118-fc0c-43ed-931d-9a7beab9baaf",
   "metadata": {},
   "outputs": [
    {
     "name": "stdin",
     "output_type": "stream",
     "text": [
      "How many taskes do you have for today? 3\n",
      "Enter your task:  walk\n",
      "Enter  the status:  note\n",
      "Enter your task:  park\n",
      "Enter  the status:  done\n",
      "Enter your task:  cook \n",
      "Enter  the status:  pending\n"
     ]
    },
    {
     "name": "stdout",
     "output_type": "stream",
     "text": [
      "walk - note\n",
      "park - done\n",
      "cook  - pending\n"
     ]
    }
   ],
   "source": [
    "to_do_list = {}\n",
    "show_case = []\n",
    "n_tasks = int(input(\"How many taskes do you have for today?\"))\n",
    "\n",
    "for i in range(n_tasks):\n",
    "    task = input(\"Enter your task: \")\n",
    "    status = input(\"Enter  the status: \")\n",
    "    show_case.append(task + \" - \" + status)\n",
    "    to_do_list[task] = status\n",
    "\n",
    "for i in show_case:\n",
    "    print(i)\n"
   ]
  },
  {
   "cell_type": "code",
   "execution_count": null,
   "id": "2f5f1df9-cc1b-47ec-ae10-f5fc845802a6",
   "metadata": {},
   "outputs": [],
   "source": []
  }
 ],
 "metadata": {
  "kernelspec": {
   "display_name": "Python 3 (ipykernel)",
   "language": "python",
   "name": "python3"
  },
  "language_info": {
   "codemirror_mode": {
    "name": "ipython",
    "version": 3
   },
   "file_extension": ".py",
   "mimetype": "text/x-python",
   "name": "python",
   "nbconvert_exporter": "python",
   "pygments_lexer": "ipython3",
   "version": "3.12.7"
  }
 },
 "nbformat": 4,
 "nbformat_minor": 5
}
